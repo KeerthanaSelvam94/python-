{
 "cells": [
  {
   "cell_type": "code",
   "execution_count": 22,
   "id": "4c5b986a",
   "metadata": {},
   "outputs": [
    {
     "name": "stdout",
     "output_type": "stream",
     "text": [
      "Enter your weight in kg-69\n",
      "Enter your height in cm-161\n"
     ]
    }
   ],
   "source": [
    "weight=float(input(\"Enter your weight in kg-\")) \n",
    "height=float(input(\"Enter your height in cm-\")) "
   ]
  },
  {
   "cell_type": "code",
   "execution_count": 23,
   "id": "95b95b0b",
   "metadata": {},
   "outputs": [
    {
     "name": "stdout",
     "output_type": "stream",
     "text": [
      "BMI 26.61934338952972\n",
      "Overweight\n"
     ]
    }
   ],
   "source": [
    "height=height/100\n",
    "BMI=weight/(height*height)\n",
    "print(\"BMI\",BMI)\n",
    "if BMI <18.5: \n",
    "    print(\"Underweight\") \n",
    "elif BMI<25:\n",
    "        print(\"Normal\") \n",
    "elif BMI<30:\n",
    "        print(\"Overweight\") \n",
    "elif BMI<35:\n",
    "        print(\"Obeise\")\n",
    "else: \n",
    "        print(\" very Obeise\")"
   ]
  },
  {
   "cell_type": "code",
   "execution_count": null,
   "id": "4d1d3773",
   "metadata": {},
   "outputs": [],
   "source": []
  },
  {
   "cell_type": "code",
   "execution_count": null,
   "id": "1dacf777",
   "metadata": {},
   "outputs": [],
   "source": []
  }
 ],
 "metadata": {
  "kernelspec": {
   "display_name": "Python 3 (ipykernel)",
   "language": "python",
   "name": "python3"
  },
  "language_info": {
   "codemirror_mode": {
    "name": "ipython",
    "version": 3
   },
   "file_extension": ".py",
   "mimetype": "text/x-python",
   "name": "python",
   "nbconvert_exporter": "python",
   "pygments_lexer": "ipython3",
   "version": "3.11.5"
  }
 },
 "nbformat": 4,
 "nbformat_minor": 5
}
