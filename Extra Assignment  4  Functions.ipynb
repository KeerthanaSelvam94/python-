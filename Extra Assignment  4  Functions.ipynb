{
 "cells": [
  {
   "cell_type": "code",
   "execution_count": 53,
   "id": "8e04f592",
   "metadata": {},
   "outputs": [],
   "source": [
    "AIfields=[\"sub-field in AI are:\",\"Machine learning\",\"Nueral learning\",\"vision\",\"Robotics\",\"Speech processing\",\"Natural language processing\"]"
   ]
  },
  {
   "cell_type": "code",
   "execution_count": 54,
   "id": "170853ee",
   "metadata": {},
   "outputs": [],
   "source": [
    "def subfields():\n",
    "    for temp in AIfields:\n",
    "        print(temp)"
   ]
  },
  {
   "cell_type": "code",
   "execution_count": 55,
   "id": "ff49ac60",
   "metadata": {
    "scrolled": true
   },
   "outputs": [
    {
     "name": "stdout",
     "output_type": "stream",
     "text": [
      "sub-field in AI are:\n",
      "Machine learning\n",
      "Nueral learning\n",
      "vision\n",
      "Robotics\n",
      "Speech processing\n",
      "Natural language processing\n"
     ]
    }
   ],
   "source": [
    "subfields()"
   ]
  },
  {
   "cell_type": "code",
   "execution_count": 57,
   "id": "f38ef3a3",
   "metadata": {},
   "outputs": [],
   "source": [
    "def OddEven():\n",
    "    num=int(input(\"Enter a number:\")) \n",
    "    if ((num%2!=0)):\n",
    "            print(num,\"is odd\")\n",
    "            message=\"odd number\"\n",
    "    else:\n",
    "            print(num,\"is even\") \n",
    "            message=\"Even number\" \n",
    "    return message"
   ]
  },
  {
   "cell_type": "code",
   "execution_count": 58,
   "id": "9965f200",
   "metadata": {},
   "outputs": [
    {
     "name": "stdout",
     "output_type": "stream",
     "text": [
      "Enter a number:52452\n",
      "52452 is even\n"
     ]
    },
    {
     "data": {
      "text/plain": [
       "'Even number'"
      ]
     },
     "execution_count": 58,
     "metadata": {},
     "output_type": "execute_result"
    }
   ],
   "source": [
    "OddEven()"
   ]
  },
  {
   "cell_type": "code",
   "execution_count": 7,
   "id": "b87b7995",
   "metadata": {},
   "outputs": [
    {
     "name": "stdout",
     "output_type": "stream",
     "text": [
      "your Gender:male\n",
      "your Age:20\n"
     ]
    }
   ],
   "source": [
    "num1=input(\"your Gender:\")\n",
    "num2=int(input(\"your Age:\"))"
   ]
  },
  {
   "cell_type": "code",
   "execution_count": 9,
   "id": "ca118f0c",
   "metadata": {},
   "outputs": [],
   "source": [
    "def Elegible():\n",
    "    print(\"your Gender:\",num1)\n",
    "    print(\"your Age:\",num2)\n",
    "    if(num2>= 18 and num1==\"female\"):\n",
    "            print(\"ELIGIBLE\") \n",
    "            marriage=\"ELIGIBLE\"\n",
    "    elif(num2>= 2 and num1==\"Male\"):\n",
    "            print(\"ELIGIBLE\")\n",
    "             marriage=\"ELIGIBLE\"\n",
    "    else:\n",
    "            print(\"NOT ELIGIBLE\")\n",
    "            marriage=\"NOT ELIGIBLE\"\n",
    "    return marriage"
   ]
  },
  {
   "cell_type": "code",
   "execution_count": 10,
   "id": "236a429d",
   "metadata": {},
   "outputs": [
    {
     "name": "stdout",
     "output_type": "stream",
     "text": [
      "your Gender: male\n",
      "your Age: 20\n",
      "NOT ELIGIBLE\n"
     ]
    }
   ],
   "source": [
    "Elegible()"
   ]
  },
  {
   "cell_type": "code",
   "execution_count": 60,
   "id": "990f2e60",
   "metadata": {},
   "outputs": [],
   "source": [
    "def Percentage(num1,num2,num3,num4,num5):\n",
    "    add=num1+num2+num3+num4+num5\n",
    "    print(\"Subject1=\",num1)\n",
    "    print(\"Subject2=\",num2)\n",
    "    print(\"Subject3=\",num3)\n",
    "    print(\"Subject4=\",num4)\n",
    "    print(\"Subject5=\",num5)\n",
    "    print(\"Total:\",add)\n",
    "    percentage=(add/500)*100\n",
    "    print(\"Percentage:\",percentage)\n"
   ]
  },
  {
   "cell_type": "code",
   "execution_count": 61,
   "id": "501fba41",
   "metadata": {
    "scrolled": true
   },
   "outputs": [
    {
     "name": "stdout",
     "output_type": "stream",
     "text": [
      "Subject1= 98\n",
      "Subject2= 87\n",
      "Subject3= 95\n",
      "Subject4= 95\n",
      "Subject5= 93\n",
      "Total: 468\n",
      "Percentage: 93.60000000000001\n"
     ]
    }
   ],
   "source": [
    " Percentage(98,87,95,95,93)"
   ]
  },
  {
   "cell_type": "code",
   "execution_count": 49,
   "id": "a15b894e",
   "metadata": {},
   "outputs": [],
   "source": [
    "def triangle():\n",
    "    Height=32\n",
    "    breadth=34\n",
    "    total=(Height*breadth)/2\n",
    "    print(\"Height:\",Height)\n",
    "    print(\"breadth:\",breadth)\n",
    "    print(\"Area formula:(Height/breadth)/2\")\n",
    "    print(\"Area of triangle:\",total)\n",
    "    Height1=2\n",
    "    Height2=4\n",
    "    Breadth=4\n",
    "    print(\"Height1:\",Height1)\n",
    "    print(\"Height2:\",Height2)\n",
    "    print(\"Breadth:\",Breadth)\n",
    "    print(\"Perimeter formula:Height+Height+Breadth\")\n",
    "    perimeter=Height1+Height2+Breadth\n",
    "    print(\"perimeter of triangle:\", perimeter)"
   ]
  },
  {
   "cell_type": "code",
   "execution_count": 50,
   "id": "1b67a28d",
   "metadata": {},
   "outputs": [
    {
     "name": "stdout",
     "output_type": "stream",
     "text": [
      "Height: 32\n",
      "breadth: 34\n",
      "Area formula:(Height/breadth)/2\n",
      "Area of triangle: 544.0\n",
      "Height1: 2\n",
      "Height2: 4\n",
      "Breadth: 4\n",
      "Perimeter formula:Height+Height+Breadth\n",
      "perimeter of triangle: 10\n"
     ]
    }
   ],
   "source": [
    "triangle()"
   ]
  },
  {
   "cell_type": "code",
   "execution_count": null,
   "id": "0201f2c9",
   "metadata": {},
   "outputs": [],
   "source": []
  },
  {
   "cell_type": "code",
   "execution_count": null,
   "id": "20e2cf0d",
   "metadata": {},
   "outputs": [],
   "source": []
  }
 ],
 "metadata": {
  "kernelspec": {
   "display_name": "Python 3 (ipykernel)",
   "language": "python",
   "name": "python3"
  },
  "language_info": {
   "codemirror_mode": {
    "name": "ipython",
    "version": 3
   },
   "file_extension": ".py",
   "mimetype": "text/x-python",
   "name": "python",
   "nbconvert_exporter": "python",
   "pygments_lexer": "ipython3",
   "version": "3.11.5"
  }
 },
 "nbformat": 4,
 "nbformat_minor": 5
}
