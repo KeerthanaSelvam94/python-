{
 "cells": [
  {
   "cell_type": "code",
   "execution_count": 33,
   "id": "9aa3caff",
   "metadata": {},
   "outputs": [
    {
     "name": "stdout",
     "output_type": "stream",
     "text": [
      "Enter the value:15\n"
     ]
    }
   ],
   "source": [
    "Num=int(input(\"Enter the value:\"))"
   ]
  },
  {
   "cell_type": "code",
   "execution_count": 2,
   "id": "a131ae8c",
   "metadata": {},
   "outputs": [],
   "source": [
    "if(Num==10):\n",
    "    print(\"the value is equal\")"
   ]
  },
  {
   "cell_type": "code",
   "execution_count": 7,
   "id": "c9a49ef9",
   "metadata": {},
   "outputs": [
    {
     "name": "stdout",
     "output_type": "stream",
     "text": [
      "The value is greater than 10 \n"
     ]
    }
   ],
   "source": [
    "if(Num<=10):\n",
    "    print(\"The value is smaller than 10 \")\n",
    "else:\n",
    "    print(\"The value is greater than 10 \")"
   ]
  },
  {
   "cell_type": "code",
   "execution_count": 1,
   "id": "e384263b",
   "metadata": {},
   "outputs": [
    {
     "name": "stdout",
     "output_type": "stream",
     "text": [
      "Enter the value:35\n"
     ]
    }
   ],
   "source": [
    "Num=int(input(\"Enter the value:\"))"
   ]
  },
  {
   "cell_type": "code",
   "execution_count": null,
   "id": "2a172c7d",
   "metadata": {},
   "outputs": [],
   "source": [
    "Num<10-->smaller\n",
    "Num<20-->Greater\n",
    "Num<30-->larger\n",
    "Num<40-->Higher"
   ]
  },
  {
   "cell_type": "code",
   "execution_count": 5,
   "id": "80e9cdb0",
   "metadata": {},
   "outputs": [
    {
     "name": "stdout",
     "output_type": "stream",
     "text": [
      "Higher \n"
     ]
    }
   ],
   "source": [
    "if(Num<=10):\n",
    "    print(\"Smaller\")\n",
    "elif(Num<20):\n",
    "    print(\"Greater\")\n",
    "elif(Num<30):\n",
    "     print(\"Larger\")\n",
    "else:\n",
    "    print(\"Higher \")      "
   ]
  },
  {
   "cell_type": "code",
   "execution_count": null,
   "id": "5b75707d",
   "metadata": {},
   "outputs": [],
   "source": [
    "|for loop"
   ]
  },
  {
   "cell_type": "code",
   "execution_count": 24,
   "id": "29f2daa6",
   "metadata": {},
   "outputs": [],
   "source": [
    "lists=[11,18,22,42,45,88]"
   ]
  },
  {
   "cell_type": "code",
   "execution_count": 18,
   "id": "51a71d2f",
   "metadata": {},
   "outputs": [
    {
     "name": "stdout",
     "output_type": "stream",
     "text": [
      "11\n",
      "18\n",
      "22\n",
      "42\n",
      "45\n",
      "88\n"
     ]
    }
   ],
   "source": [
    "for temp in lists:\n",
    "    print(temp)"
   ]
  },
  {
   "cell_type": "code",
   "execution_count": 25,
   "id": "a2b9cdd9",
   "metadata": {},
   "outputs": [
    {
     "name": "stdout",
     "output_type": "stream",
     "text": [
      "Greater\n",
      "Greater\n",
      "Larger\n",
      "More than 50\n",
      "More than 50\n",
      "More than 50\n"
     ]
    }
   ],
   "source": [
    "for value in lists:\n",
    "    if(value<10):\n",
    "            print(\"Smaller\")\n",
    "    elif(value<20):\n",
    "            print(\"Greater\")\n",
    "    elif(value<30):\n",
    "            print(\"Larger\")\n",
    "    elif(value<40):\n",
    "            print(\"Higher \")   \n",
    "    else:\n",
    "            print(\"More than 50\")   "
   ]
  },
  {
   "cell_type": "code",
   "execution_count": 22,
   "id": "214d014a",
   "metadata": {},
   "outputs": [],
   "source": [
    "lists=[23,45,67,34,89]"
   ]
  },
  {
   "cell_type": "code",
   "execution_count": 23,
   "id": "a3c8536a",
   "metadata": {},
   "outputs": [
    {
     "name": "stdout",
     "output_type": "stream",
     "text": [
      "23\n",
      "45\n",
      "67\n",
      "34\n",
      "89\n"
     ]
    }
   ],
   "source": [
    "for temp in lists:\n",
    "       print(temp)\n",
    " "
   ]
  },
  {
   "cell_type": "code",
   "execution_count": 27,
   "id": "d892515d",
   "metadata": {},
   "outputs": [
    {
     "name": "stdout",
     "output_type": "stream",
     "text": [
      "0\n",
      "5\n",
      "10\n",
      "15\n",
      "20\n",
      "25\n",
      "30\n",
      "35\n",
      "40\n",
      "45\n",
      "50\n",
      "55\n",
      "60\n",
      "65\n",
      "70\n",
      "75\n",
      "80\n",
      "85\n",
      "90\n",
      "95\n"
     ]
    }
   ],
   "source": [
    "   for num in range(0,100,5):\n",
    "    print(num)\n",
    "   "
   ]
  },
  {
   "cell_type": "code",
   "execution_count": 10,
   "id": "d7c3afe8",
   "metadata": {},
   "outputs": [
    {
     "name": "stdout",
     "output_type": "stream",
     "text": [
      "0\n",
      "1\n",
      "2\n",
      "3\n",
      "4\n",
      "5\n",
      "6\n",
      "7\n",
      "8\n",
      "9\n"
     ]
    }
   ],
   "source": [
    "for num in range(0,10):\n",
    "    print(num)"
   ]
  },
  {
   "cell_type": "code",
   "execution_count": 11,
   "id": "e6c1a655",
   "metadata": {},
   "outputs": [
    {
     "name": "stdout",
     "output_type": "stream",
     "text": [
      "0\n",
      "2\n",
      "4\n",
      "6\n",
      "8\n"
     ]
    }
   ],
   "source": [
    "for num in range(0,10,2):\n",
    "    print(num)"
   ]
  },
  {
   "cell_type": "code",
   "execution_count": null,
   "id": "54b4385f",
   "metadata": {},
   "outputs": [],
   "source": []
  }
 ],
 "metadata": {
  "kernelspec": {
   "display_name": "Python 3 (ipykernel)",
   "language": "python",
   "name": "python3"
  },
  "language_info": {
   "codemirror_mode": {
    "name": "ipython",
    "version": 3
   },
   "file_extension": ".py",
   "mimetype": "text/x-python",
   "name": "python",
   "nbconvert_exporter": "python",
   "pygments_lexer": "ipython3",
   "version": "3.11.5"
  }
 },
 "nbformat": 4,
 "nbformat_minor": 5
}
